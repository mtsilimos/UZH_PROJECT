{
 "cells": [
  {
   "cell_type": "code",
   "execution_count": 20,
   "id": "d46f17d0-ecec-4503-af58-60be5b4be141",
   "metadata": {},
   "outputs": [],
   "source": [
    "import pandas as pd\n",
    "dataset = pd.read_csv(r'C:\\Users\\mtsil\\Desktop\\english_essays.csv')"
   ]
  },
  {
   "cell_type": "code",
   "execution_count": 21,
   "id": "2eebbd6b-8ff5-4dd0-82a5-64cf40fcc46b",
   "metadata": {},
   "outputs": [
    {
     "data": {
      "text/plain": [
       "\"How to get enough energy You should have enough energy, if not you are not ready for your life. To have enough energy, you must eat good food and don't eat to late, because if you're eating to late you can't sleep! Don't eat some heavy food at the evening, because it gives you to much and then you can't sleep. If you want a good sleeptime, at 8 pm go to sleep and at 6 o'clock you can stand up early, because you have 10 hours sleep and this is enough. If you think you have to much school and no freetime, maybe is that like this, because you're doing to much stuff, ehich you don't like in your freetime. So, in your freetime you should go out or go to do sport or make your hobbys. If you had doing all this things, then go to school, because right now, you can better learn something.\""
      ]
     },
     "execution_count": 21,
     "metadata": {},
     "output_type": "execute_result"
    }
   ],
   "source": [
    "df = dataset[['essay', 'sumscore']].copy()\n",
    "df['essay'][80]"
   ]
  },
  {
   "cell_type": "code",
   "execution_count": 22,
   "id": "c4426324-112c-4327-9dcb-70155d33cded",
   "metadata": {},
   "outputs": [
    {
     "data": {
      "text/plain": [
       "\"How to get enough energy You should have enough energy, if not you are not ready for your life. To have enough energy, you must eat good food and don't eat to late, because if you're eating to late you can't sleep! Don't eat some heavy food at the evening, because it gives you to much and then you can't sleep. If you want a good sleeptime, at eight pm go to sleep and at six o'clock you can stand up early, because you have ten hours sleep and this is enough. If you think you have to much school and no freetime, maybe is that like this, because you're doing to much stuff, ehich you don't like in your freetime. So, in your freetime you should go out or go to do sport or make your hobbys. If you had doing all this things, then go to school, because right now, you can better learn something.\""
      ]
     },
     "execution_count": 22,
     "metadata": {},
     "output_type": "execute_result"
    }
   ],
   "source": [
    "from num2words import num2words\n",
    "\n",
    "# convert numbers to words\n",
    "\n",
    "def clean_text(text):\n",
    "    text = \" \".join([num2words(word) if word.isdigit() else word for word in text.split()])\n",
    "    return text\n",
    "\n",
    "df['essay']= df[\"essay\"].apply(clean_text)\n",
    "pd.set_option('display.max_colwidth', None)\n",
    "df['essay'][80]"
   ]
  },
  {
   "cell_type": "code",
   "execution_count": 23,
   "id": "428e1e07-e3bc-4c28-870f-abf983bd5bd9",
   "metadata": {},
   "outputs": [
    {
     "data": {
      "text/plain": [
       "\"How to get enough energy You should have enough energy, if not you are not ready for your life. To have enough energy, you must eat good food and don't eat to late, because if you're eating to late you can't sleep! Don't eat some heavy food at the evening, because it gives you to much and then you can't sleep. If you want a good sleeptime, at eight pm go to sleep and at six o'clock you can stand up early, because you have ten hours sleep and this is enough. If you think you have to much school and no freetime, maybe is that like this, because you're doing to much stuff, ehich you don't like in your freetime. So, in your freetime you should go out or go to do sport or make your hobbys. If you had doing all this things, then go to school, because right now, you can better learn something.\""
      ]
     },
     "execution_count": 23,
     "metadata": {},
     "output_type": "execute_result"
    }
   ],
   "source": [
    "# remove those digits which could not be converted into words\n",
    "\n",
    "def clean(text):\n",
    "    text= ''.join(c for c in text if not c.isdigit())\n",
    "    \n",
    "   \n",
    "    return text\n",
    "\n",
    "\n",
    "\n",
    "df['essay']= df[\"essay\"].apply(clean)\n",
    "pd.set_option('display.max_colwidth', None)\n",
    "df['essay'][80]"
   ]
  },
  {
   "cell_type": "code",
   "execution_count": 24,
   "id": "42dbd202-7096-4f57-a327-e30abbba3aeb",
   "metadata": {},
   "outputs": [
    {
     "data": {
      "text/plain": [
       "\"how to get enough energy you should have enough energy, if not you are not ready for your life. to have enough energy, you must eat good food and don't eat to late, because if you're eating to late you can't sleep! don't eat some heavy food at the evening, because it gives you to much and then you can't sleep. if you want a good sleeptime, at eight pm go to sleep and at six o'clock you can stand up early, because you have ten hours sleep and this is enough. if you think you have to much school and no freetime, maybe is that like this, because you're doing to much stuff, ehich you don't like in your freetime. so, in your freetime you should go out or go to do sport or make your hobbys. if you had doing all this things, then go to school, because right now, you can better learn something.\""
      ]
     },
     "execution_count": 24,
     "metadata": {},
     "output_type": "execute_result"
    }
   ],
   "source": [
    "# convert to lower cases\n",
    "\n",
    "df['essay'] = df['essay'].str.lower()\n",
    "df['essay'][80]"
   ]
  },
  {
   "cell_type": "code",
   "execution_count": 25,
   "id": "ef095d5f-4011-4c34-93cf-8928c207636e",
   "metadata": {},
   "outputs": [
    {
     "data": {
      "text/plain": [
       "'how to get enough energy you should have enough energy if not you are not ready for your life. to have enough energy you must eat good food and dont eat to late because if youre eating to late you cant sleep dont eat some heavy food at the evening because it gives you to much and then you cant sleep. if you want a good sleeptime at eight pm go to sleep and at six oclock you can stand up early because you have ten hours sleep and this is enough. if you think you have to much school and no freetime maybe is that like this because youre doing to much stuff ehich you dont like in your freetime. so in your freetime you should go out or go to do sport or make your hobbys. if you had doing all this things then go to school because right now you can better learn something.'"
      ]
     },
     "execution_count": 25,
     "metadata": {},
     "output_type": "execute_result"
    }
   ],
   "source": [
    "\n",
    "# remove punctuation marks apart from full stop\n",
    "# remove special characters\n",
    "# remove whitespaces\n",
    "\n",
    "import re\n",
    "\n",
    "\n",
    "def clean(text):\n",
    "    \n",
    "    text = re.sub(r'[^a-zA-Z0-9\\s\\.]', '', text) \n",
    "   \n",
    "    text = \" \".join(text.split())\n",
    "    \n",
    "    \n",
    "    return text\n",
    "\n",
    "\n",
    "\n",
    "df['essay']= df[\"essay\"].apply(clean)\n",
    "pd.set_option('display.max_colwidth', None)\n",
    "df['essay'][80]"
   ]
  },
  {
   "cell_type": "code",
   "execution_count": 26,
   "id": "5e0a4d60-d37a-4ed9-9125-8fe34d3a8e1a",
   "metadata": {},
   "outputs": [
    {
     "data": {
      "text/plain": [
       "'how to get enough energy you should have enough energy if not you are not ready for your life. to have enough energy you must eat good food and dont eat to late because if youre eating to late you cant sleep dont eat some heavy food at the evening because it gives you to much and then you cant sleep. if you want a good sleeptime at eight pm go to sleep and at six oclock you can stand up early because you have ten hours sleep and this is enough. if you think you have to much school and no freetime maybe is that like this because youre doing to much stuff ehich you dont like in your freetime. so in your freetime you should go out or go to do sport or make your hobbys. if you had doing all this things then go to school because right now you can better learn something.'"
      ]
     },
     "execution_count": 26,
     "metadata": {},
     "output_type": "execute_result"
    }
   ],
   "source": [
    "# remove a list of specific words\n",
    "\n",
    "remove_words = ['hundred', 'thousand', 'h','wichtig', 'vor', 'oder', 'notiz', 'gesundheit', 'z.b.', 'bevor', 'trotzdem',\n",
    "'sportler', 'habe', 'wenn', 'trinke', 'ungesund',  'gesund', 'obst', 'bewegen', 'ca', 'musst']\n",
    "\n",
    "\n",
    "df['essay'] = df['essay'].apply(lambda x: ' '.join([word for word in x.split() if word not in (remove_words)]))\n",
    "df['essay'][80]"
   ]
  },
  {
   "cell_type": "code",
   "execution_count": 27,
   "id": "b432bae4-735d-4cef-8c41-5bbf3e2fabd2",
   "metadata": {},
   "outputs": [
    {
     "data": {
      "text/plain": [
       "'how to get enough energy you should have enough energy if not you are not ready for your life. to have enough energy you must eat good food and dont eat to late because if youre eating to late you cant sleep dont eat some heavy food at the evening because it gives you to much and then you cant sleep. if you want a good sleeptime at eight pm go to sleep and at six oclock you can stand up early because you have ten hours sleep and this is enough. if you think you have to much school and no freetime maybe is that like this because youre doing to much stuff ehich you dont like in your freetime. so in your freetime you should go out or go to do sport or make your hobbys. if you had doing all this things then go to school because right now you can better learn something.'"
      ]
     },
     "execution_count": 27,
     "metadata": {},
     "output_type": "execute_result"
    }
   ],
   "source": [
    "df['essay'] = df['essay'].str.replace('how to boost your energy', '')\n",
    "df['essay'][80]"
   ]
  },
  {
   "cell_type": "code",
   "execution_count": 28,
   "id": "a600df01-2de5-4b6d-abbb-d69aa79dc8ec",
   "metadata": {},
   "outputs": [
    {
     "data": {
      "text/plain": [
       "'how to get enough energy you should have enough energy if not you are not ready for your life. to have enough energy you must eat good food and do not eat to late because if you are eating to late you cannot sleep do not eat some heavy food at the evening because it gives you to much and then you cannot sleep. if you want a good sleeptime at eight pm go to sleep and at six of the clock you can stand up early because you have ten hours sleep and this is enough. if you think you have to much school and no freetime maybe is that like this because you are doing to much stuff ehich you do not like in your freetime. so in your freetime you should go out or go to do sport or make your hobbys. if you had doing all this things then go to school because right now you can better learn something.'"
      ]
     },
     "execution_count": 28,
     "metadata": {},
     "output_type": "execute_result"
    }
   ],
   "source": [
    "import contractions\n",
    "\n",
    "# expand contractions\n",
    "\n",
    "df['essay']= df['essay'].apply(lambda x: contractions.fix(x))\n",
    "df['essay'][80]"
   ]
  },
  {
   "cell_type": "code",
   "execution_count": null,
   "id": "8f9ad423-67c1-47a9-95e0-5507ae4004cf",
   "metadata": {},
   "outputs": [],
   "source": []
  }
 ],
 "metadata": {
  "kernelspec": {
   "display_name": "Python 3 (ipykernel)",
   "language": "python",
   "name": "python3"
  },
  "language_info": {
   "codemirror_mode": {
    "name": "ipython",
    "version": 3
   },
   "file_extension": ".py",
   "mimetype": "text/x-python",
   "name": "python",
   "nbconvert_exporter": "python",
   "pygments_lexer": "ipython3",
   "version": "3.9.0"
  }
 },
 "nbformat": 4,
 "nbformat_minor": 5
}
