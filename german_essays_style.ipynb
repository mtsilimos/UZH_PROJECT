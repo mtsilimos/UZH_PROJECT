{
 "cells": [
  {
   "cell_type": "code",
   "execution_count": 866,
   "id": "03855952-b5fc-4321-b604-85ec413fcd1d",
   "metadata": {},
   "outputs": [],
   "source": [
    "import pandas as pd\n",
    "dataset = pd.read_csv(r'C:\\Users\\mtsil\\Desktop\\german_essays.csv', encoding='unicode_escape')"
   ]
  },
  {
   "cell_type": "code",
   "execution_count": 867,
   "id": "87d56ec6-7302-4adc-865a-5ffc993485fb",
   "metadata": {},
   "outputs": [
    {
     "data": {
      "text/html": [
       "<div>\n",
       "<style scoped>\n",
       "    .dataframe tbody tr th:only-of-type {\n",
       "        vertical-align: middle;\n",
       "    }\n",
       "\n",
       "    .dataframe tbody tr th {\n",
       "        vertical-align: top;\n",
       "    }\n",
       "\n",
       "    .dataframe thead th {\n",
       "        text-align: right;\n",
       "    }\n",
       "</style>\n",
       "<table border=\"1\" class=\"dataframe\">\n",
       "  <thead>\n",
       "    <tr style=\"text-align: right;\">\n",
       "      <th></th>\n",
       "      <th>rater</th>\n",
       "      <th>thema</th>\n",
       "      <th>i_1</th>\n",
       "      <th>i_2</th>\n",
       "      <th>i_3</th>\n",
       "      <th>i_4</th>\n",
       "      <th>t_1</th>\n",
       "      <th>t_2</th>\n",
       "      <th>t_3</th>\n",
       "      <th>sr_1</th>\n",
       "      <th>sr_2</th>\n",
       "      <th>sr_3</th>\n",
       "      <th>sr_4</th>\n",
       "      <th>sa_1</th>\n",
       "      <th>sa_2</th>\n",
       "      <th>sa_3</th>\n",
       "      <th>sa_4</th>\n",
       "      <th>id_text</th>\n",
       "      <th>wle_dsch</th>\n",
       "      <th>sewle_dsch</th>\n",
       "      <th>punkte_dsch</th>\n",
       "      <th>sumscore</th>\n",
       "      <th>essay</th>\n",
       "    </tr>\n",
       "  </thead>\n",
       "  <tbody>\n",
       "    <tr>\n",
       "      <th>0</th>\n",
       "      <td>9</td>\n",
       "      <td>1</td>\n",
       "      <td>2</td>\n",
       "      <td>2</td>\n",
       "      <td>1</td>\n",
       "      <td>1</td>\n",
       "      <td>0</td>\n",
       "      <td>2</td>\n",
       "      <td>1</td>\n",
       "      <td>2</td>\n",
       "      <td>1</td>\n",
       "      <td>2</td>\n",
       "      <td>2</td>\n",
       "      <td>2</td>\n",
       "      <td>2</td>\n",
       "      <td>1</td>\n",
       "      <td>2</td>\n",
       "      <td>K011_001</td>\n",
       "      <td>0.450426</td>\n",
       "      <td>0.551269</td>\n",
       "      <td>822.0</td>\n",
       "      <td>23</td>\n",
       "      <td>Ich möchte gern in Spanien wohnen, am besten i...</td>\n",
       "    </tr>\n",
       "    <tr>\n",
       "      <th>1</th>\n",
       "      <td>9</td>\n",
       "      <td>1</td>\n",
       "      <td>2</td>\n",
       "      <td>2</td>\n",
       "      <td>1</td>\n",
       "      <td>2</td>\n",
       "      <td>1</td>\n",
       "      <td>2</td>\n",
       "      <td>2</td>\n",
       "      <td>2</td>\n",
       "      <td>1</td>\n",
       "      <td>3</td>\n",
       "      <td>2</td>\n",
       "      <td>2</td>\n",
       "      <td>2</td>\n",
       "      <td>1</td>\n",
       "      <td>2</td>\n",
       "      <td>K011_002</td>\n",
       "      <td>1.651275</td>\n",
       "      <td>0.553108</td>\n",
       "      <td>916.0</td>\n",
       "      <td>27</td>\n",
       "      <td>Ich würde gerne in einem Haus leben. Es sollte...</td>\n",
       "    </tr>\n",
       "  </tbody>\n",
       "</table>\n",
       "</div>"
      ],
      "text/plain": [
       "   rater  thema  i_1  i_2  i_3  i_4  t_1  t_2  t_3  sr_1  sr_2  sr_3  sr_4  \\\n",
       "0      9      1    2    2    1    1    0    2    1     2     1     2     2   \n",
       "1      9      1    2    2    1    2    1    2    2     2     1     3     2   \n",
       "\n",
       "   sa_1  sa_2  sa_3  sa_4   id_text  wle_dsch  sewle_dsch  punkte_dsch  \\\n",
       "0     2     2     1     2  K011_001  0.450426    0.551269        822.0   \n",
       "1     2     2     1     2  K011_002  1.651275    0.553108        916.0   \n",
       "\n",
       "   sumscore                                              essay  \n",
       "0        23  Ich möchte gern in Spanien wohnen, am besten i...  \n",
       "1        27  Ich würde gerne in einem Haus leben. Es sollte...  "
      ]
     },
     "execution_count": 867,
     "metadata": {},
     "output_type": "execute_result"
    }
   ],
   "source": [
    "pd.set_option('display.max_columns', None)\n",
    "pd.set_option('display.max_rows', None)\n",
    "dataset.head(2)"
   ]
  },
  {
   "cell_type": "code",
   "execution_count": 868,
   "id": "b10b932f-d89a-4c30-a114-a792399ab9cf",
   "metadata": {},
   "outputs": [],
   "source": [
    "# create df1 to store the essay variable\n",
    "\n",
    "df1 = dataset['essay']"
   ]
  },
  {
   "cell_type": "code",
   "execution_count": 869,
   "id": "614b04a9-82c4-4e3d-a571-54c8a792e318",
   "metadata": {},
   "outputs": [
    {
     "data": {
      "text/html": [
       "<div>\n",
       "<style scoped>\n",
       "    .dataframe tbody tr th:only-of-type {\n",
       "        vertical-align: middle;\n",
       "    }\n",
       "\n",
       "    .dataframe tbody tr th {\n",
       "        vertical-align: top;\n",
       "    }\n",
       "\n",
       "    .dataframe thead th {\n",
       "        text-align: right;\n",
       "    }\n",
       "</style>\n",
       "<table border=\"1\" class=\"dataframe\">\n",
       "  <thead>\n",
       "    <tr style=\"text-align: right;\">\n",
       "      <th></th>\n",
       "      <th>sum</th>\n",
       "    </tr>\n",
       "  </thead>\n",
       "  <tbody>\n",
       "    <tr>\n",
       "      <th>0</th>\n",
       "      <td>7</td>\n",
       "    </tr>\n",
       "    <tr>\n",
       "      <th>1</th>\n",
       "      <td>7</td>\n",
       "    </tr>\n",
       "  </tbody>\n",
       "</table>\n",
       "</div>"
      ],
      "text/plain": [
       "   sum\n",
       "0    7\n",
       "1    7"
      ]
     },
     "execution_count": 869,
     "metadata": {},
     "output_type": "execute_result"
    }
   ],
   "source": [
    "# add the values of the style criterion across each row; the sum score is stored in the df2 pandas data frame\n",
    "# for example, essay 1 has been assessed with the score 7 for its style\n",
    "\n",
    "pd.set_option('display.max_rows', None)\n",
    "df2 = dataset[['sa_1', 'sa_2', 'sa_3', 'sa_4']].agg(['sum'], axis=1)\n",
    "df2.head(2)"
   ]
  },
  {
   "cell_type": "code",
   "execution_count": 870,
   "id": "7d73299a-8dc3-4068-9c8c-73a28b74123d",
   "metadata": {},
   "outputs": [
    {
     "data": {
      "text/html": [
       "<div>\n",
       "<style scoped>\n",
       "    .dataframe tbody tr th:only-of-type {\n",
       "        vertical-align: middle;\n",
       "    }\n",
       "\n",
       "    .dataframe tbody tr th {\n",
       "        vertical-align: top;\n",
       "    }\n",
       "\n",
       "    .dataframe thead th {\n",
       "        text-align: right;\n",
       "    }\n",
       "</style>\n",
       "<table border=\"1\" class=\"dataframe\">\n",
       "  <thead>\n",
       "    <tr style=\"text-align: right;\">\n",
       "      <th></th>\n",
       "      <th>essay</th>\n",
       "      <th>sum</th>\n",
       "    </tr>\n",
       "  </thead>\n",
       "  <tbody>\n",
       "    <tr>\n",
       "      <th>0</th>\n",
       "      <td>Ich möchte gern in Spanien wohnen, am besten i...</td>\n",
       "      <td>7</td>\n",
       "    </tr>\n",
       "    <tr>\n",
       "      <th>1</th>\n",
       "      <td>Ich würde gerne in einem Haus leben. Es sollte...</td>\n",
       "      <td>7</td>\n",
       "    </tr>\n",
       "  </tbody>\n",
       "</table>\n",
       "</div>"
      ],
      "text/plain": [
       "                                               essay  sum\n",
       "0  Ich möchte gern in Spanien wohnen, am besten i...    7\n",
       "1  Ich würde gerne in einem Haus leben. Es sollte...    7"
      ]
     },
     "execution_count": 870,
     "metadata": {},
     "output_type": "execute_result"
    }
   ],
   "source": [
    "# concatenate df1 and df2 into a new pandas data frame called style\n",
    "# the last three rows do not contain any values for the essay variable\n",
    "\n",
    "style = pd.concat([df1, df2], axis=1)\n",
    "style.head(2)"
   ]
  },
  {
   "cell_type": "code",
   "execution_count": 871,
   "id": "443cd67f-e4eb-4a5b-8f18-023938eaa22d",
   "metadata": {},
   "outputs": [
    {
     "data": {
      "text/plain": [
       "(125, 2)"
      ]
     },
     "execution_count": 871,
     "metadata": {},
     "output_type": "execute_result"
    }
   ],
   "source": [
    "# drop the last three rows and create the final pandas data frame called final_style\n",
    "\n",
    "final_style = style.drop([125, 126, 127])\n",
    "final_style.shape"
   ]
  },
  {
   "cell_type": "code",
   "execution_count": 872,
   "id": "07317aa9-aa42-4fe2-aeba-243f61873795",
   "metadata": {},
   "outputs": [
    {
     "data": {
      "text/plain": [
       "sum\n",
       "7      41\n",
       "6      38\n",
       "5      22\n",
       "8      10\n",
       "4       9\n",
       "3       4\n",
       "2       1\n",
       "Name: count, dtype: int64"
      ]
     },
     "execution_count": 872,
     "metadata": {},
     "output_type": "execute_result"
    }
   ],
   "source": [
    "# check the distribution of the values for the style criterion\n",
    "\n",
    "final_style[['sum']].value_counts()"
   ]
  },
  {
   "cell_type": "code",
   "execution_count": 874,
   "id": "51aff054-2197-42ee-b799-1d80b99c7de9",
   "metadata": {},
   "outputs": [
    {
     "name": "stderr",
     "output_type": "stream",
     "text": [
      "c:\\users\\mtsil\\appdata\\local\\programs\\python\\python39\\lib\\site-packages\\sklearn\\preprocessing\\_discretization.py:322: UserWarning: Bins whose width are too small (i.e., <= 1e-8) in feature 0 are removed. Consider decreasing the number of bins.\n",
      "  warnings.warn(\n"
     ]
    },
    {
     "data": {
      "text/html": [
       "<div>\n",
       "<style scoped>\n",
       "    .dataframe tbody tr th:only-of-type {\n",
       "        vertical-align: middle;\n",
       "    }\n",
       "\n",
       "    .dataframe tbody tr th {\n",
       "        vertical-align: top;\n",
       "    }\n",
       "\n",
       "    .dataframe thead th {\n",
       "        text-align: right;\n",
       "    }\n",
       "</style>\n",
       "<table border=\"1\" class=\"dataframe\">\n",
       "  <thead>\n",
       "    <tr style=\"text-align: right;\">\n",
       "      <th></th>\n",
       "      <th>essay</th>\n",
       "      <th>sum</th>\n",
       "    </tr>\n",
       "  </thead>\n",
       "  <tbody>\n",
       "    <tr>\n",
       "      <th>0</th>\n",
       "      <td>Ich möchte gern in Spanien wohnen, am besten i...</td>\n",
       "      <td>2.0</td>\n",
       "    </tr>\n",
       "    <tr>\n",
       "      <th>1</th>\n",
       "      <td>Ich würde gerne in einem Haus leben. Es sollte...</td>\n",
       "      <td>2.0</td>\n",
       "    </tr>\n",
       "  </tbody>\n",
       "</table>\n",
       "</div>"
      ],
      "text/plain": [
       "                                               essay  sum\n",
       "0  Ich möchte gern in Spanien wohnen, am besten i...  2.0\n",
       "1  Ich würde gerne in einem Haus leben. Es sollte...  2.0"
      ]
     },
     "execution_count": 874,
     "metadata": {},
     "output_type": "execute_result"
    }
   ],
   "source": [
    "from sklearn.preprocessing import KBinsDiscretizer\n",
    "# K-Means Discretization\n",
    "kmean_discretizer = KBinsDiscretizer(n_bins=4, encode='ordinal', strategy='quantile')\n",
    "final_style['sum'] = kmean_discretizer.fit_transform(final_style[['sum']])\n",
    "\n",
    "final_style.head(2)"
   ]
  },
  {
   "cell_type": "code",
   "execution_count": 875,
   "id": "3ec9cb9b-f2d2-4899-9ac9-f31efb8579d0",
   "metadata": {},
   "outputs": [
    {
     "data": {
      "text/html": [
       "<div>\n",
       "<style scoped>\n",
       "    .dataframe tbody tr th:only-of-type {\n",
       "        vertical-align: middle;\n",
       "    }\n",
       "\n",
       "    .dataframe tbody tr th {\n",
       "        vertical-align: top;\n",
       "    }\n",
       "\n",
       "    .dataframe thead th {\n",
       "        text-align: right;\n",
       "    }\n",
       "</style>\n",
       "<table border=\"1\" class=\"dataframe\">\n",
       "  <thead>\n",
       "    <tr style=\"text-align: right;\">\n",
       "      <th></th>\n",
       "      <th>essay</th>\n",
       "      <th>sum</th>\n",
       "    </tr>\n",
       "  </thead>\n",
       "  <tbody>\n",
       "    <tr>\n",
       "      <th>0</th>\n",
       "      <td>Ich möchte gern in Spanien wohnen, am besten i...</td>\n",
       "      <td>2</td>\n",
       "    </tr>\n",
       "    <tr>\n",
       "      <th>1</th>\n",
       "      <td>Ich würde gerne in einem Haus leben. Es sollte...</td>\n",
       "      <td>2</td>\n",
       "    </tr>\n",
       "  </tbody>\n",
       "</table>\n",
       "</div>"
      ],
      "text/plain": [
       "                                               essay  sum\n",
       "0  Ich möchte gern in Spanien wohnen, am besten i...    2\n",
       "1  Ich würde gerne in einem Haus leben. Es sollte...    2"
      ]
     },
     "execution_count": 875,
     "metadata": {},
     "output_type": "execute_result"
    }
   ],
   "source": [
    "final_style['sum'] = final_style['sum'].astype(int)\n",
    "final_style.head(2)"
   ]
  },
  {
   "cell_type": "code",
   "execution_count": 847,
   "id": "9c9db25f-e509-4cc3-9a03-106368f9be62",
   "metadata": {},
   "outputs": [
    {
     "data": {
      "text/plain": [
       "sum\n",
       "0    14\n",
       "1    22\n",
       "2    38\n",
       "3    51\n",
       "Name: count, dtype: int64"
      ]
     },
     "execution_count": 847,
     "metadata": {},
     "output_type": "execute_result"
    }
   ],
   "source": [
    "final_style['sum'].value_counts(ascending = True)"
   ]
  },
  {
   "cell_type": "code",
   "execution_count": 848,
   "id": "ff087ec6-c6c0-4bbe-9bf1-bb2465893785",
   "metadata": {},
   "outputs": [],
   "source": [
    "X = final_style['essay']\n",
    "y = final_style['sum']"
   ]
  },
  {
   "cell_type": "code",
   "execution_count": 850,
   "id": "c6f6cd83-33cb-467f-9681-642e5046cc52",
   "metadata": {},
   "outputs": [],
   "source": [
    "from sklearn.feature_extraction.text import TfidfVectorizer\n",
    "td = TfidfVectorizer(max_features = 6000)\n",
    "X = td.fit_transform(X).toarray()"
   ]
  },
  {
   "cell_type": "code",
   "execution_count": 851,
   "id": "c7d3101f-9180-49bd-a50f-ccb8200190d0",
   "metadata": {},
   "outputs": [],
   "source": [
    "# no need for the parameter test_size becauseone-third of the data it is set aside as test data, known as the out-of-bag (oob) sample \n",
    "\n",
    "from sklearn.model_selection import train_test_split\n",
    "X_train, X_test, y_train, y_test = train_test_split(X, y, \n",
    "                                                     random_state=0, \n",
    "                                                    shuffle=True)"
   ]
  },
  {
   "cell_type": "code",
   "execution_count": 854,
   "id": "0d546d01-575b-490d-ab21-e8ba8bfb0622",
   "metadata": {},
   "outputs": [],
   "source": [
    "from sklearn.utils.class_weight import compute_class_weight\n",
    "\n",
    "class_weights = compute_class_weight(class_weight = \"balanced\",\n",
    "                                        classes = np.unique(y_train),\n",
    "                                        y = y_train                                                    \n",
    "                                    )\n",
    "class_weights = dict(zip(np.unique(y_train), class_weights))\n"
   ]
  },
  {
   "cell_type": "code",
   "execution_count": 855,
   "id": "33377c68-d826-4d2e-bd58-e01c979eb20d",
   "metadata": {},
   "outputs": [
    {
     "data": {
      "text/html": [
       "<style>#sk-container-id-5 {color: black;}#sk-container-id-5 pre{padding: 0;}#sk-container-id-5 div.sk-toggleable {background-color: white;}#sk-container-id-5 label.sk-toggleable__label {cursor: pointer;display: block;width: 100%;margin-bottom: 0;padding: 0.3em;box-sizing: border-box;text-align: center;}#sk-container-id-5 label.sk-toggleable__label-arrow:before {content: \"▸\";float: left;margin-right: 0.25em;color: #696969;}#sk-container-id-5 label.sk-toggleable__label-arrow:hover:before {color: black;}#sk-container-id-5 div.sk-estimator:hover label.sk-toggleable__label-arrow:before {color: black;}#sk-container-id-5 div.sk-toggleable__content {max-height: 0;max-width: 0;overflow: hidden;text-align: left;background-color: #f0f8ff;}#sk-container-id-5 div.sk-toggleable__content pre {margin: 0.2em;color: black;border-radius: 0.25em;background-color: #f0f8ff;}#sk-container-id-5 input.sk-toggleable__control:checked~div.sk-toggleable__content {max-height: 200px;max-width: 100%;overflow: auto;}#sk-container-id-5 input.sk-toggleable__control:checked~label.sk-toggleable__label-arrow:before {content: \"▾\";}#sk-container-id-5 div.sk-estimator input.sk-toggleable__control:checked~label.sk-toggleable__label {background-color: #d4ebff;}#sk-container-id-5 div.sk-label input.sk-toggleable__control:checked~label.sk-toggleable__label {background-color: #d4ebff;}#sk-container-id-5 input.sk-hidden--visually {border: 0;clip: rect(1px 1px 1px 1px);clip: rect(1px, 1px, 1px, 1px);height: 1px;margin: -1px;overflow: hidden;padding: 0;position: absolute;width: 1px;}#sk-container-id-5 div.sk-estimator {font-family: monospace;background-color: #f0f8ff;border: 1px dotted black;border-radius: 0.25em;box-sizing: border-box;margin-bottom: 0.5em;}#sk-container-id-5 div.sk-estimator:hover {background-color: #d4ebff;}#sk-container-id-5 div.sk-parallel-item::after {content: \"\";width: 100%;border-bottom: 1px solid gray;flex-grow: 1;}#sk-container-id-5 div.sk-label:hover label.sk-toggleable__label {background-color: #d4ebff;}#sk-container-id-5 div.sk-serial::before {content: \"\";position: absolute;border-left: 1px solid gray;box-sizing: border-box;top: 0;bottom: 0;left: 50%;z-index: 0;}#sk-container-id-5 div.sk-serial {display: flex;flex-direction: column;align-items: center;background-color: white;padding-right: 0.2em;padding-left: 0.2em;position: relative;}#sk-container-id-5 div.sk-item {position: relative;z-index: 1;}#sk-container-id-5 div.sk-parallel {display: flex;align-items: stretch;justify-content: center;background-color: white;position: relative;}#sk-container-id-5 div.sk-item::before, #sk-container-id-5 div.sk-parallel-item::before {content: \"\";position: absolute;border-left: 1px solid gray;box-sizing: border-box;top: 0;bottom: 0;left: 50%;z-index: -1;}#sk-container-id-5 div.sk-parallel-item {display: flex;flex-direction: column;z-index: 1;position: relative;background-color: white;}#sk-container-id-5 div.sk-parallel-item:first-child::after {align-self: flex-end;width: 50%;}#sk-container-id-5 div.sk-parallel-item:last-child::after {align-self: flex-start;width: 50%;}#sk-container-id-5 div.sk-parallel-item:only-child::after {width: 0;}#sk-container-id-5 div.sk-dashed-wrapped {border: 1px dashed gray;margin: 0 0.4em 0.5em 0.4em;box-sizing: border-box;padding-bottom: 0.4em;background-color: white;}#sk-container-id-5 div.sk-label label {font-family: monospace;font-weight: bold;display: inline-block;line-height: 1.2em;}#sk-container-id-5 div.sk-label-container {text-align: center;}#sk-container-id-5 div.sk-container {/* jupyter's `normalize.less` sets `[hidden] { display: none; }` but bootstrap.min.css set `[hidden] { display: none !important; }` so we also need the `!important` here to be able to override the default hidden behavior on the sphinx rendered scikit-learn.org. See: https://github.com/scikit-learn/scikit-learn/issues/21755 */display: inline-block !important;position: relative;}#sk-container-id-5 div.sk-text-repr-fallback {display: none;}</style><div id=\"sk-container-id-5\" class=\"sk-top-container\"><div class=\"sk-text-repr-fallback\"><pre>RandomForestClassifier(class_weight={0: 2.1136363636363638,\n",
       "                                     1: 1.2916666666666667,\n",
       "                                     2: 0.8611111111111112,\n",
       "                                     3: 0.6283783783783784},\n",
       "                       max_features=&#x27;log2&#x27;, min_samples_leaf=10,\n",
       "                       min_samples_split=3, n_jobs=-1, random_state=42)</pre><b>In a Jupyter environment, please rerun this cell to show the HTML representation or trust the notebook. <br />On GitHub, the HTML representation is unable to render, please try loading this page with nbviewer.org.</b></div><div class=\"sk-container\" hidden><div class=\"sk-item\"><div class=\"sk-estimator sk-toggleable\"><input class=\"sk-toggleable__control sk-hidden--visually\" id=\"sk-estimator-id-9\" type=\"checkbox\" checked><label for=\"sk-estimator-id-9\" class=\"sk-toggleable__label sk-toggleable__label-arrow\">RandomForestClassifier</label><div class=\"sk-toggleable__content\"><pre>RandomForestClassifier(class_weight={0: 2.1136363636363638,\n",
       "                                     1: 1.2916666666666667,\n",
       "                                     2: 0.8611111111111112,\n",
       "                                     3: 0.6283783783783784},\n",
       "                       max_features=&#x27;log2&#x27;, min_samples_leaf=10,\n",
       "                       min_samples_split=3, n_jobs=-1, random_state=42)</pre></div></div></div></div></div>"
      ],
      "text/plain": [
       "RandomForestClassifier(class_weight={0: 2.1136363636363638,\n",
       "                                     1: 1.2916666666666667,\n",
       "                                     2: 0.8611111111111112,\n",
       "                                     3: 0.6283783783783784},\n",
       "                       max_features='log2', min_samples_leaf=10,\n",
       "                       min_samples_split=3, n_jobs=-1, random_state=42)"
      ]
     },
     "execution_count": 855,
     "metadata": {},
     "output_type": "execute_result"
    }
   ],
   "source": [
    "from sklearn.ensemble import RandomForestClassifier\n",
    "model = RandomForestClassifier(n_estimators = 100, class_weight= class_weights, max_features = 'log2', min_samples_split = 3, min_samples_leaf = 10, random_state=42, n_jobs=-1)\n",
    "model.fit(X_train,y_train)\n",
    "\n"
   ]
  },
  {
   "cell_type": "code",
   "execution_count": 856,
   "id": "f7844aeb-7168-4b28-aaab-c87d23bc0b12",
   "metadata": {},
   "outputs": [],
   "source": [
    "predictions = model.predict(X_test)"
   ]
  },
  {
   "cell_type": "code",
   "execution_count": 857,
   "id": "13b2d0c9-0bce-4fe3-8bd2-a3992ca2f95a",
   "metadata": {},
   "outputs": [],
   "source": [
    "from sklearn.metrics import accuracy_score\n"
   ]
  },
  {
   "cell_type": "code",
   "execution_count": 858,
   "id": "59136864-eaaa-40e4-804b-6c3d6f379940",
   "metadata": {},
   "outputs": [
    {
     "name": "stdout",
     "output_type": "stream",
     "text": [
      "Training set accuracy: 0.6344\n",
      "Test set accuracy: 0.5938\n"
     ]
    }
   ],
   "source": [
    "print(f'Training set accuracy: {model.score(X_train, y_train):.4f}')\n",
    "print(f'Test set accuracy: {model.score(X_test, y_test):.4f}')"
   ]
  },
  {
   "cell_type": "code",
   "execution_count": 859,
   "id": "eab55f9f-cd94-45ce-bee3-e122742c191c",
   "metadata": {},
   "outputs": [
    {
     "name": "stdout",
     "output_type": "stream",
     "text": [
      "              precision    recall  f1-score   support\n",
      "\n",
      "           0       0.40      0.67      0.50         3\n",
      "           1       0.67      0.50      0.57         4\n",
      "           2       0.56      0.45      0.50        11\n",
      "           3       0.67      0.71      0.69        14\n",
      "\n",
      "    accuracy                           0.59        32\n",
      "   macro avg       0.57      0.58      0.57        32\n",
      "weighted avg       0.60      0.59      0.59        32\n",
      "\n"
     ]
    }
   ],
   "source": [
    "from sklearn.metrics import classification_report\n",
    "print(classification_report(y_test, predictions))"
   ]
  },
  {
   "cell_type": "code",
   "execution_count": 860,
   "id": "281aacac-1213-48e4-9585-4a4725dbdad7",
   "metadata": {},
   "outputs": [],
   "source": [
    "from sklearn.metrics import confusion_matrix\n",
    "\n",
    "cm=confusion_matrix(y_test,predictions)\n"
   ]
  },
  {
   "cell_type": "code",
   "execution_count": 861,
   "id": "e01981ff-18b5-4f90-9d95-993c09a568ce",
   "metadata": {},
   "outputs": [
    {
     "data": {
      "text/plain": [
       "<Axes: >"
      ]
     },
     "execution_count": 861,
     "metadata": {},
     "output_type": "execute_result"
    },
    {
     "data": {
      "image/png": "[encoded data removed]",
      "text/plain": [
       "<Figure size 640x480 with 2 Axes>"
      ]
     },
     "metadata": {},
     "output_type": "display_data"
    }
   ],
   "source": [
    "import seaborn as sn\n",
    "sn.heatmap(cm,annot=True,fmt='.2g')"
   ]
  },
  {
   "cell_type": "markdown",
   "id": "c1890be2-bdd9-439b-b7a2-c793acd07287",
   "metadata": {},
   "source": [
    "It seems that the model struggled classifying class 3 and class 4 correctly since it misclassifies instances of class 3 for class 4. 5 instances were incorrectly predicted to belong to class 4. \n",
    "Overall, the model did well with class 4."
   ]
  },
  {
   "cell_type": "code",
   "execution_count": 862,
   "id": "6d38413c-3363-482e-a9ba-dbbc794fc64e",
   "metadata": {},
   "outputs": [
    {
     "data": {
      "text/plain": [
       "0.6716440886699508"
      ]
     },
     "execution_count": 862,
     "metadata": {},
     "output_type": "execute_result"
    }
   ],
   "source": [
    "from sklearn.metrics import roc_auc_score\n",
    "\n",
    "\n",
    "y_preb_probs = model.predict_proba(X_test)\n",
    "\n",
    "roc_auc_score(y_test, y_preb_probs, average=\"weighted\", multi_class=\"ovr\")"
   ]
  },
  {
   "cell_type": "code",
   "execution_count": 863,
   "id": "452c07ce-b45e-4364-ac49-8d296700110b",
   "metadata": {},
   "outputs": [
    {
     "data": {
      "text/plain": [
       "0.39534883720930236"
      ]
     },
     "execution_count": 863,
     "metadata": {},
     "output_type": "execute_result"
    }
   ],
   "source": [
    "from sklearn.metrics import cohen_kappa_score\n",
    "\n",
    "cohen_kappa_score(y_test, predictions)"
   ]
  }
 ],
 "metadata": {
  "kernelspec": {
   "display_name": "Python 3 (ipykernel)",
   "language": "python",
   "name": "python3"
  },
  "language_info": {
   "codemirror_mode": {
    "name": "ipython",
    "version": 3
   },
   "file_extension": ".py",
   "mimetype": "text/x-python",
   "name": "python",
   "nbconvert_exporter": "python",
   "pygments_lexer": "ipython3",
   "version": "3.9.0"
  }
 },
 "nbformat": 4,
 "nbformat_minor": 5
}
