{
 "cells": [
  {
   "cell_type": "code",
   "execution_count": 3,
   "id": "9c768d7f-7c28-4774-8cc6-6cc5df1b9a02",
   "metadata": {},
   "outputs": [
    {
     "data": {
      "text/html": [
       "<div>\n",
       "<style scoped>\n",
       "    .dataframe tbody tr th:only-of-type {\n",
       "        vertical-align: middle;\n",
       "    }\n",
       "\n",
       "    .dataframe tbody tr th {\n",
       "        vertical-align: top;\n",
       "    }\n",
       "\n",
       "    .dataframe thead th {\n",
       "        text-align: right;\n",
       "    }\n",
       "</style>\n",
       "<table border=\"1\" class=\"dataframe\">\n",
       "  <thead>\n",
       "    <tr style=\"text-align: right;\">\n",
       "      <th></th>\n",
       "      <th>student_nr</th>\n",
       "      <th>class_nr</th>\n",
       "      <th>school_nr</th>\n",
       "      <th>canton_nr</th>\n",
       "      <th>rater</th>\n",
       "      <th>i1_1</th>\n",
       "      <th>i1_2</th>\n",
       "      <th>i1_3</th>\n",
       "      <th>i1_4</th>\n",
       "      <th>sr1_1</th>\n",
       "      <th>sr1_2</th>\n",
       "      <th>sr1_3</th>\n",
       "      <th>sr1_4</th>\n",
       "      <th>wle_esch</th>\n",
       "      <th>sewle_esch</th>\n",
       "      <th>punkte_esch</th>\n",
       "      <th>essay</th>\n",
       "      <th>sumscore</th>\n",
       "    </tr>\n",
       "  </thead>\n",
       "  <tbody>\n",
       "    <tr>\n",
       "      <th>0</th>\n",
       "      <td>1</td>\n",
       "      <td>1_3_5</td>\n",
       "      <td>1_3</td>\n",
       "      <td>1</td>\n",
       "      <td>7</td>\n",
       "      <td>2</td>\n",
       "      <td>2</td>\n",
       "      <td>2</td>\n",
       "      <td>1</td>\n",
       "      <td>2</td>\n",
       "      <td>2</td>\n",
       "      <td>2</td>\n",
       "      <td>2</td>\n",
       "      <td>-0.178414</td>\n",
       "      <td>0.483534</td>\n",
       "      <td>810</td>\n",
       "      <td>How to boost your energy Before you go to slee...</td>\n",
       "      <td>15</td>\n",
       "    </tr>\n",
       "    <tr>\n",
       "      <th>1</th>\n",
       "      <td>2</td>\n",
       "      <td>1_3_5</td>\n",
       "      <td>1_3</td>\n",
       "      <td>1</td>\n",
       "      <td>7</td>\n",
       "      <td>2</td>\n",
       "      <td>2</td>\n",
       "      <td>2</td>\n",
       "      <td>2</td>\n",
       "      <td>2</td>\n",
       "      <td>2</td>\n",
       "      <td>2</td>\n",
       "      <td>2</td>\n",
       "      <td>0.063664</td>\n",
       "      <td>0.492626</td>\n",
       "      <td>824</td>\n",
       "      <td>Student life All students must go to school, g...</td>\n",
       "      <td>16</td>\n",
       "    </tr>\n",
       "  </tbody>\n",
       "</table>\n",
       "</div>"
      ],
      "text/plain": [
       "  student_nr class_nr school_nr  canton_nr  rater  i1_1  i1_2  i1_3  i1_4  \\\n",
       "0          1    1_3_5       1_3          1      7     2     2     2     1   \n",
       "1          2    1_3_5       1_3          1      7     2     2     2     2   \n",
       "\n",
       "   sr1_1  sr1_2  sr1_3  sr1_4  wle_esch  sewle_esch  punkte_esch  \\\n",
       "0      2      2      2      2 -0.178414    0.483534          810   \n",
       "1      2      2      2      2  0.063664    0.492626          824   \n",
       "\n",
       "                                               essay  sumscore  \n",
       "0  How to boost your energy Before you go to slee...        15  \n",
       "1  Student life All students must go to school, g...        16  "
      ]
     },
     "execution_count": 3,
     "metadata": {},
     "output_type": "execute_result"
    }
   ],
   "source": [
    "import pandas as pd\n",
    "\n",
    "pd.set_option('display.max_columns', None)\n",
    "pd.set_option('display.max_rows', None)\n",
    "df = pd.read_csv(r'C:\\Users\\mtsil\\Desktop\\english_essays.csv')\n",
    "df.head(2)"
   ]
  },
  {
   "cell_type": "code",
   "execution_count": 4,
   "id": "75342605-9fed-427b-bee1-fcf5998851a7",
   "metadata": {},
   "outputs": [],
   "source": [
    "from num2words import num2words\n",
    "\n",
    "# convert numbers to words\n",
    "\n",
    "def clean_text(text):\n",
    "    text = \" \".join([num2words(word) if word.isdigit() else word for word in text.split()])\n",
    "    return text\n",
    "\n",
    "df['essay']= df[\"essay\"].apply(clean_text)"
   ]
  },
  {
   "cell_type": "code",
   "execution_count": 5,
   "id": "818671c9-87ab-4b74-92dd-3ab4bf858cad",
   "metadata": {},
   "outputs": [],
   "source": [
    "# remove those digits which could not be converted into words\n",
    "\n",
    "def clean(text):\n",
    "    text= ''.join(c for c in text if not c.isdigit())\n",
    "    \n",
    "   \n",
    "    return text\n",
    "\n",
    "\n",
    "\n",
    "df['essay']= df[\"essay\"].apply(clean)"
   ]
  },
  {
   "cell_type": "code",
   "execution_count": 6,
   "id": "a2ab50b4-0514-47cf-b875-112c082a46a9",
   "metadata": {},
   "outputs": [],
   "source": [
    "import contractions\n",
    "\n",
    "# expand contractions\n",
    "\n",
    "df['essay']= df['essay'].apply(lambda x: contractions.fix(x))"
   ]
  },
  {
   "cell_type": "code",
   "execution_count": 7,
   "id": "cc1e968f-16c3-4c01-ae70-b795352e7840",
   "metadata": {},
   "outputs": [],
   "source": [
    "# convert to lower cases\n",
    "\n",
    "df['essay'] = df['essay'].str.lower()"
   ]
  },
  {
   "cell_type": "code",
   "execution_count": 8,
   "id": "ad06beff-23af-4538-aee0-f42930ccd41d",
   "metadata": {},
   "outputs": [],
   "source": [
    "# remove punctuation marks apart from full stop\n",
    "# remove special characters\n",
    "# remove whitespaces\n",
    "\n",
    "import re\n",
    "\n",
    "\n",
    "def clean(text):\n",
    "    \n",
    "    text = re.sub(r'[^a-zA-Z0-9\\s\\.]', '', text) \n",
    "   \n",
    "    text = \" \".join(text.split())\n",
    "    \n",
    "    \n",
    "    return text\n",
    "\n",
    "\n",
    "\n",
    "df['essay']= df[\"essay\"].apply(clean)"
   ]
  },
  {
   "cell_type": "code",
   "execution_count": 9,
   "id": "b325fa99-f66b-40ee-a9fa-5f3ddc733f97",
   "metadata": {},
   "outputs": [],
   "source": [
    "# remove a list of specific words\n",
    "\n",
    "remove_words = ['hundred', 'thousand', 'h','wichtig', 'vor', 'oder', 'notiz', 'gesundheit', 'z.b.', 'bevor', 'trotzdem',\n",
    "'sportler', 'habe', 'wenn', 'trinke', 'ungesund',  'gesund', 'obst', 'bewegen', 'ca', 'musst']\n",
    "\n",
    "\n",
    "df['essay'] = df['essay'].apply(lambda x: ' '.join([word for word in x.split() if word not in (remove_words)]))"
   ]
  },
  {
   "cell_type": "code",
   "execution_count": 10,
   "id": "8ae71346-ae83-4fff-95fe-0998224be2db",
   "metadata": {},
   "outputs": [],
   "source": [
    "df['essay'] = df['essay'].str.replace('how to boost your energy', '')"
   ]
  },
  {
   "cell_type": "code",
   "execution_count": 11,
   "id": "b6316a2e-82f5-44ba-befa-260fd3b6a92d",
   "metadata": {},
   "outputs": [],
   "source": [
    "# create df1 to store the essay variable\n",
    "\n",
    "df1 = df['essay']"
   ]
  },
  {
   "cell_type": "code",
   "execution_count": 12,
   "id": "8a235979-c4c3-4ba2-8487-5a774c682c4a",
   "metadata": {},
   "outputs": [
    {
     "data": {
      "text/html": [
       "<div>\n",
       "<style scoped>\n",
       "    .dataframe tbody tr th:only-of-type {\n",
       "        vertical-align: middle;\n",
       "    }\n",
       "\n",
       "    .dataframe tbody tr th {\n",
       "        vertical-align: top;\n",
       "    }\n",
       "\n",
       "    .dataframe thead th {\n",
       "        text-align: right;\n",
       "    }\n",
       "</style>\n",
       "<table border=\"1\" class=\"dataframe\">\n",
       "  <thead>\n",
       "    <tr style=\"text-align: right;\">\n",
       "      <th></th>\n",
       "      <th>sum</th>\n",
       "    </tr>\n",
       "  </thead>\n",
       "  <tbody>\n",
       "    <tr>\n",
       "      <th>0</th>\n",
       "      <td>6</td>\n",
       "    </tr>\n",
       "    <tr>\n",
       "      <th>1</th>\n",
       "      <td>6</td>\n",
       "    </tr>\n",
       "    <tr>\n",
       "      <th>2</th>\n",
       "      <td>7</td>\n",
       "    </tr>\n",
       "    <tr>\n",
       "      <th>3</th>\n",
       "      <td>7</td>\n",
       "    </tr>\n",
       "    <tr>\n",
       "      <th>4</th>\n",
       "      <td>7</td>\n",
       "    </tr>\n",
       "  </tbody>\n",
       "</table>\n",
       "</div>"
      ],
      "text/plain": [
       "   sum\n",
       "0    6\n",
       "1    6\n",
       "2    7\n",
       "3    7\n",
       "4    7"
      ]
     },
     "execution_count": 12,
     "metadata": {},
     "output_type": "execute_result"
    }
   ],
   "source": [
    "# add the values of the style criterion across each row; the sum score is stored in the df2 pandas data frame\n",
    "\n",
    "\n",
    "pd.set_option('display.max_rows', None)\n",
    "df2 = df[['sr1_1', 'sr1_2', 'sr1_4']].agg(['sum'], axis=1)\n",
    "df2.head()"
   ]
  },
  {
   "cell_type": "code",
   "execution_count": 13,
   "id": "10fda6cb-49cd-477f-ad9f-54146cd37040",
   "metadata": {},
   "outputs": [
    {
     "data": {
      "text/html": [
       "<div>\n",
       "<style scoped>\n",
       "    .dataframe tbody tr th:only-of-type {\n",
       "        vertical-align: middle;\n",
       "    }\n",
       "\n",
       "    .dataframe tbody tr th {\n",
       "        vertical-align: top;\n",
       "    }\n",
       "\n",
       "    .dataframe thead th {\n",
       "        text-align: right;\n",
       "    }\n",
       "</style>\n",
       "<table border=\"1\" class=\"dataframe\">\n",
       "  <thead>\n",
       "    <tr style=\"text-align: right;\">\n",
       "      <th></th>\n",
       "      <th>essay</th>\n",
       "      <th>sum</th>\n",
       "    </tr>\n",
       "  </thead>\n",
       "  <tbody>\n",
       "    <tr>\n",
       "      <th>0</th>\n",
       "      <td>before you go to sleep do not go on the mobil...</td>\n",
       "      <td>6</td>\n",
       "    </tr>\n",
       "    <tr>\n",
       "      <th>1</th>\n",
       "      <td>student life all students must go to school go...</td>\n",
       "      <td>6</td>\n",
       "    </tr>\n",
       "  </tbody>\n",
       "</table>\n",
       "</div>"
      ],
      "text/plain": [
       "                                               essay  sum\n",
       "0   before you go to sleep do not go on the mobil...    6\n",
       "1  student life all students must go to school go...    6"
      ]
     },
     "execution_count": 13,
     "metadata": {},
     "output_type": "execute_result"
    }
   ],
   "source": [
    "# concatenate df1 and df2 into a new pandas data frame called language\n",
    "\n",
    "\n",
    "language = pd.concat([df1, df2], axis=1)\n",
    "language.head(2)"
   ]
  },
  {
   "cell_type": "code",
   "execution_count": 14,
   "id": "be43995b-a4b8-47f5-9e63-6099c6fa953d",
   "metadata": {},
   "outputs": [
    {
     "data": {
      "text/plain": [
       "sum\n",
       "6      24\n",
       "7      23\n",
       "5      22\n",
       "8      15\n",
       "4       9\n",
       "3       4\n",
       "2       1\n",
       "9       1\n",
       "10      1\n",
       "Name: count, dtype: int64"
      ]
     },
     "execution_count": 14,
     "metadata": {},
     "output_type": "execute_result"
    }
   ],
   "source": [
    "# check the distribution of the values for the language criterion\n",
    "\n",
    "language[['sum']].value_counts()"
   ]
  },
  {
   "cell_type": "code",
   "execution_count": 15,
   "id": "a6d86abb-bd06-49ba-981c-8b8e41a7b3fe",
   "metadata": {},
   "outputs": [
    {
     "data": {
      "text/html": [
       "<div>\n",
       "<style scoped>\n",
       "    .dataframe tbody tr th:only-of-type {\n",
       "        vertical-align: middle;\n",
       "    }\n",
       "\n",
       "    .dataframe tbody tr th {\n",
       "        vertical-align: top;\n",
       "    }\n",
       "\n",
       "    .dataframe thead th {\n",
       "        text-align: right;\n",
       "    }\n",
       "</style>\n",
       "<table border=\"1\" class=\"dataframe\">\n",
       "  <thead>\n",
       "    <tr style=\"text-align: right;\">\n",
       "      <th></th>\n",
       "      <th>essay</th>\n",
       "      <th>sum</th>\n",
       "    </tr>\n",
       "  </thead>\n",
       "  <tbody>\n",
       "    <tr>\n",
       "      <th>0</th>\n",
       "      <td>before you go to sleep do not go on the mobil...</td>\n",
       "      <td>1.0</td>\n",
       "    </tr>\n",
       "    <tr>\n",
       "      <th>1</th>\n",
       "      <td>student life all students must go to school go...</td>\n",
       "      <td>1.0</td>\n",
       "    </tr>\n",
       "  </tbody>\n",
       "</table>\n",
       "</div>"
      ],
      "text/plain": [
       "                                               essay  sum\n",
       "0   before you go to sleep do not go on the mobil...  1.0\n",
       "1  student life all students must go to school go...  1.0"
      ]
     },
     "execution_count": 15,
     "metadata": {},
     "output_type": "execute_result"
    }
   ],
   "source": [
    "from sklearn.preprocessing import KBinsDiscretizer\n",
    "# Quantile Discretization (convert the continuous values of the target variable into discrete categories)\n",
    "\n",
    "quantile_discretizer = KBinsDiscretizer(n_bins=2, encode='ordinal', strategy='quantile')\n",
    "language['sum'] = quantile_discretizer.fit_transform(language[['sum']])\n",
    "\n",
    "language.head(2)"
   ]
  },
  {
   "cell_type": "code",
   "execution_count": 16,
   "id": "dd8224f0-1fd2-474a-93a3-9c3fb3040235",
   "metadata": {},
   "outputs": [
    {
     "data": {
      "text/html": [
       "<div>\n",
       "<style scoped>\n",
       "    .dataframe tbody tr th:only-of-type {\n",
       "        vertical-align: middle;\n",
       "    }\n",
       "\n",
       "    .dataframe tbody tr th {\n",
       "        vertical-align: top;\n",
       "    }\n",
       "\n",
       "    .dataframe thead th {\n",
       "        text-align: right;\n",
       "    }\n",
       "</style>\n",
       "<table border=\"1\" class=\"dataframe\">\n",
       "  <thead>\n",
       "    <tr style=\"text-align: right;\">\n",
       "      <th></th>\n",
       "      <th>essay</th>\n",
       "      <th>sum</th>\n",
       "    </tr>\n",
       "  </thead>\n",
       "  <tbody>\n",
       "    <tr>\n",
       "      <th>0</th>\n",
       "      <td>before you go to sleep do not go on the mobil...</td>\n",
       "      <td>1</td>\n",
       "    </tr>\n",
       "    <tr>\n",
       "      <th>1</th>\n",
       "      <td>student life all students must go to school go...</td>\n",
       "      <td>1</td>\n",
       "    </tr>\n",
       "  </tbody>\n",
       "</table>\n",
       "</div>"
      ],
      "text/plain": [
       "                                               essay  sum\n",
       "0   before you go to sleep do not go on the mobil...    1\n",
       "1  student life all students must go to school go...    1"
      ]
     },
     "execution_count": 16,
     "metadata": {},
     "output_type": "execute_result"
    }
   ],
   "source": [
    "language['sum'] = language['sum'].astype(int)\n",
    "language.head(2)"
   ]
  },
  {
   "cell_type": "code",
   "execution_count": 17,
   "id": "be0a4f0a-aa54-4a25-b0a5-36b5d2947fc9",
   "metadata": {},
   "outputs": [
    {
     "data": {
      "text/plain": [
       "sum\n",
       "0    36\n",
       "1    64\n",
       "Name: count, dtype: int64"
      ]
     },
     "execution_count": 17,
     "metadata": {},
     "output_type": "execute_result"
    }
   ],
   "source": [
    "language['sum'].value_counts(ascending = True)"
   ]
  },
  {
   "cell_type": "code",
   "execution_count": 18,
   "id": "985b2746-4334-467c-a6c4-d3b3a88d3d72",
   "metadata": {},
   "outputs": [],
   "source": [
    "X = language['essay']\n",
    "y = language['sum']"
   ]
  },
  {
   "cell_type": "code",
   "execution_count": 19,
   "id": "27b9fc8a-003b-4bdd-afba-ee221eb076c0",
   "metadata": {},
   "outputs": [],
   "source": [
    "from sklearn.feature_extraction.text import TfidfVectorizer\n",
    "td = TfidfVectorizer(max_features = 6000)\n",
    "X = td.fit_transform(X).toarray()"
   ]
  },
  {
   "cell_type": "code",
   "execution_count": 20,
   "id": "65096db5-7799-47c5-a755-4309e9606ae5",
   "metadata": {},
   "outputs": [],
   "source": [
    "# no need for the parameter test_size becauseone-third of the data it is set aside as test data, known as the out-of-bag (oob) sample \n",
    "\n",
    "from sklearn.model_selection import train_test_split\n",
    "X_train, X_test, y_train, y_test = train_test_split(X, y, \n",
    "                                                     random_state=0, \n",
    "                                                    shuffle=True)"
   ]
  },
  {
   "cell_type": "code",
   "execution_count": 22,
   "id": "79ed874c-3fa9-469b-9911-56af65242fa4",
   "metadata": {},
   "outputs": [],
   "source": [
    "import numpy as np\n",
    "\n",
    "from sklearn.utils.class_weight import compute_class_weight\n",
    "\n",
    "class_weights = compute_class_weight(class_weight = \"balanced\",\n",
    "                                        classes = np.unique(y_train),\n",
    "                                        y = y_train                                                    \n",
    "                                    )\n",
    "class_weights = dict(zip(np.unique(y_train), class_weights))\n"
   ]
  },
  {
   "cell_type": "code",
   "execution_count": 41,
   "id": "f100dfa3-86d2-4ee2-b6fb-255312efcb33",
   "metadata": {},
   "outputs": [
    {
     "data": {
      "text/html": [
       "<style>#sk-container-id-5 {color: black;}#sk-container-id-5 pre{padding: 0;}#sk-container-id-5 div.sk-toggleable {background-color: white;}#sk-container-id-5 label.sk-toggleable__label {cursor: pointer;display: block;width: 100%;margin-bottom: 0;padding: 0.3em;box-sizing: border-box;text-align: center;}#sk-container-id-5 label.sk-toggleable__label-arrow:before {content: \"▸\";float: left;margin-right: 0.25em;color: #696969;}#sk-container-id-5 label.sk-toggleable__label-arrow:hover:before {color: black;}#sk-container-id-5 div.sk-estimator:hover label.sk-toggleable__label-arrow:before {color: black;}#sk-container-id-5 div.sk-toggleable__content {max-height: 0;max-width: 0;overflow: hidden;text-align: left;background-color: #f0f8ff;}#sk-container-id-5 div.sk-toggleable__content pre {margin: 0.2em;color: black;border-radius: 0.25em;background-color: #f0f8ff;}#sk-container-id-5 input.sk-toggleable__control:checked~div.sk-toggleable__content {max-height: 200px;max-width: 100%;overflow: auto;}#sk-container-id-5 input.sk-toggleable__control:checked~label.sk-toggleable__label-arrow:before {content: \"▾\";}#sk-container-id-5 div.sk-estimator input.sk-toggleable__control:checked~label.sk-toggleable__label {background-color: #d4ebff;}#sk-container-id-5 div.sk-label input.sk-toggleable__control:checked~label.sk-toggleable__label {background-color: #d4ebff;}#sk-container-id-5 input.sk-hidden--visually {border: 0;clip: rect(1px 1px 1px 1px);clip: rect(1px, 1px, 1px, 1px);height: 1px;margin: -1px;overflow: hidden;padding: 0;position: absolute;width: 1px;}#sk-container-id-5 div.sk-estimator {font-family: monospace;background-color: #f0f8ff;border: 1px dotted black;border-radius: 0.25em;box-sizing: border-box;margin-bottom: 0.5em;}#sk-container-id-5 div.sk-estimator:hover {background-color: #d4ebff;}#sk-container-id-5 div.sk-parallel-item::after {content: \"\";width: 100%;border-bottom: 1px solid gray;flex-grow: 1;}#sk-container-id-5 div.sk-label:hover label.sk-toggleable__label {background-color: #d4ebff;}#sk-container-id-5 div.sk-serial::before {content: \"\";position: absolute;border-left: 1px solid gray;box-sizing: border-box;top: 0;bottom: 0;left: 50%;z-index: 0;}#sk-container-id-5 div.sk-serial {display: flex;flex-direction: column;align-items: center;background-color: white;padding-right: 0.2em;padding-left: 0.2em;position: relative;}#sk-container-id-5 div.sk-item {position: relative;z-index: 1;}#sk-container-id-5 div.sk-parallel {display: flex;align-items: stretch;justify-content: center;background-color: white;position: relative;}#sk-container-id-5 div.sk-item::before, #sk-container-id-5 div.sk-parallel-item::before {content: \"\";position: absolute;border-left: 1px solid gray;box-sizing: border-box;top: 0;bottom: 0;left: 50%;z-index: -1;}#sk-container-id-5 div.sk-parallel-item {display: flex;flex-direction: column;z-index: 1;position: relative;background-color: white;}#sk-container-id-5 div.sk-parallel-item:first-child::after {align-self: flex-end;width: 50%;}#sk-container-id-5 div.sk-parallel-item:last-child::after {align-self: flex-start;width: 50%;}#sk-container-id-5 div.sk-parallel-item:only-child::after {width: 0;}#sk-container-id-5 div.sk-dashed-wrapped {border: 1px dashed gray;margin: 0 0.4em 0.5em 0.4em;box-sizing: border-box;padding-bottom: 0.4em;background-color: white;}#sk-container-id-5 div.sk-label label {font-family: monospace;font-weight: bold;display: inline-block;line-height: 1.2em;}#sk-container-id-5 div.sk-label-container {text-align: center;}#sk-container-id-5 div.sk-container {/* jupyter's `normalize.less` sets `[hidden] { display: none; }` but bootstrap.min.css set `[hidden] { display: none !important; }` so we also need the `!important` here to be able to override the default hidden behavior on the sphinx rendered scikit-learn.org. See: https://github.com/scikit-learn/scikit-learn/issues/21755 */display: inline-block !important;position: relative;}#sk-container-id-5 div.sk-text-repr-fallback {display: none;}</style><div id=\"sk-container-id-5\" class=\"sk-top-container\"><div class=\"sk-text-repr-fallback\"><pre>RandomForestClassifier(class_weight={0: 1.3392857142857142,\n",
       "                                     1: 0.7978723404255319},\n",
       "                       max_features=&#x27;log2&#x27;, min_samples_leaf=15,\n",
       "                       min_samples_split=3, n_jobs=-1, random_state=42)</pre><b>In a Jupyter environment, please rerun this cell to show the HTML representation or trust the notebook. <br />On GitHub, the HTML representation is unable to render, please try loading this page with nbviewer.org.</b></div><div class=\"sk-container\" hidden><div class=\"sk-item\"><div class=\"sk-estimator sk-toggleable\"><input class=\"sk-toggleable__control sk-hidden--visually\" id=\"sk-estimator-id-5\" type=\"checkbox\" checked><label for=\"sk-estimator-id-5\" class=\"sk-toggleable__label sk-toggleable__label-arrow\">RandomForestClassifier</label><div class=\"sk-toggleable__content\"><pre>RandomForestClassifier(class_weight={0: 1.3392857142857142,\n",
       "                                     1: 0.7978723404255319},\n",
       "                       max_features=&#x27;log2&#x27;, min_samples_leaf=15,\n",
       "                       min_samples_split=3, n_jobs=-1, random_state=42)</pre></div></div></div></div></div>"
      ],
      "text/plain": [
       "RandomForestClassifier(class_weight={0: 1.3392857142857142,\n",
       "                                     1: 0.7978723404255319},\n",
       "                       max_features='log2', min_samples_leaf=15,\n",
       "                       min_samples_split=3, n_jobs=-1, random_state=42)"
      ]
     },
     "execution_count": 41,
     "metadata": {},
     "output_type": "execute_result"
    }
   ],
   "source": [
    "from sklearn.ensemble import RandomForestClassifier\n",
    "model = RandomForestClassifier(n_estimators = 100, class_weight= class_weights, max_features = 'log2',  min_samples_split = 3, min_samples_leaf = 15, random_state=42, n_jobs=-1)\n",
    "model.fit(X_train,y_train)"
   ]
  },
  {
   "cell_type": "code",
   "execution_count": 42,
   "id": "3b8127a2-db2d-46d3-aab1-d0e02ed74cba",
   "metadata": {},
   "outputs": [],
   "source": [
    "predictions = model.predict(X_test)"
   ]
  },
  {
   "cell_type": "code",
   "execution_count": 25,
   "id": "d6cde59c-f110-4f74-92da-86de2f58fdeb",
   "metadata": {},
   "outputs": [],
   "source": [
    "from sklearn.metrics import accuracy_score\n"
   ]
  },
  {
   "cell_type": "code",
   "execution_count": 43,
   "id": "462ef5f8-5857-4fe7-bd76-ae432548418c",
   "metadata": {},
   "outputs": [
    {
     "name": "stdout",
     "output_type": "stream",
     "text": [
      "Training set accuracy: 0.8000\n",
      "Test set accuracy: 0.7200\n"
     ]
    }
   ],
   "source": [
    "print(f'Training set accuracy: {model.score(X_train, y_train):.4f}')\n",
    "print(f'Test set accuracy: {model.score(X_test, y_test):.4f}')"
   ]
  },
  {
   "cell_type": "code",
   "execution_count": 27,
   "id": "76e10df9-fc46-48c2-98fe-98246ed0d184",
   "metadata": {},
   "outputs": [
    {
     "name": "stdout",
     "output_type": "stream",
     "text": [
      "              precision    recall  f1-score   support\n",
      "\n",
      "           0       0.60      0.38      0.46         8\n",
      "           1       0.75      0.88      0.81        17\n",
      "\n",
      "    accuracy                           0.72        25\n",
      "   macro avg       0.68      0.63      0.64        25\n",
      "weighted avg       0.70      0.72      0.70        25\n",
      "\n"
     ]
    }
   ],
   "source": [
    "from sklearn.metrics import classification_report\n",
    "print(classification_report(y_test, predictions))"
   ]
  },
  {
   "cell_type": "code",
   "execution_count": 28,
   "id": "c2583d68-e7e6-4553-b8e3-d8240e5b7e8b",
   "metadata": {},
   "outputs": [],
   "source": [
    "from sklearn.metrics import confusion_matrix\n",
    "\n",
    "cm=confusion_matrix(y_test,predictions)"
   ]
  },
  {
   "cell_type": "code",
   "execution_count": 29,
   "id": "1f5dce7d-7211-4418-9b9a-c8cf7ee4614a",
   "metadata": {},
   "outputs": [
    {
     "data": {
      "text/plain": [
       "<Axes: >"
      ]
     },
     "execution_count": 29,
     "metadata": {},
     "output_type": "execute_result"
    },
    {
     "data": {
      "image/png": "[encoded data removed]",
      "text/plain": [
       "<Figure size 640x480 with 2 Axes>"
      ]
     },
     "metadata": {},
     "output_type": "display_data"
    }
   ],
   "source": [
    "import seaborn as sn\n",
    "sn.heatmap(cm,annot=True,fmt='.2g')"
   ]
  },
  {
   "cell_type": "code",
   "execution_count": 30,
   "id": "45070ea3-3733-4d12-aead-14688e6111ed",
   "metadata": {},
   "outputs": [
    {
     "data": {
      "text/plain": [
       "0.5735294117647058"
      ]
     },
     "execution_count": 30,
     "metadata": {},
     "output_type": "execute_result"
    }
   ],
   "source": [
    "from sklearn.metrics import roc_auc_score\n",
    "\n",
    "y_pred = model.predict_proba(X_test)[:, 1]\n",
    "\n",
    "roc_auc_score(y_test, y_pred)"
   ]
  },
  {
   "cell_type": "code",
   "execution_count": 31,
   "id": "a6bd937b-7763-49d7-ac3a-81b29e180385",
   "metadata": {},
   "outputs": [
    {
     "data": {
      "text/plain": [
       "0.2857142857142858"
      ]
     },
     "execution_count": 31,
     "metadata": {},
     "output_type": "execute_result"
    }
   ],
   "source": [
    "from sklearn.metrics import cohen_kappa_score\n",
    "\n",
    "cohen_kappa_score(y_test, predictions)"
   ]
  },
  {
   "cell_type": "code",
   "execution_count": null,
   "id": "e68969c8-8a15-4054-afc5-ba26cb8d658a",
   "metadata": {},
   "outputs": [],
   "source": [
    "import joblib \n",
    "\n",
    "\n",
    "filename = 'joblib_model4_language_english_essays.sav'\n",
    "joblib.dump(model, filename)"
   ]
  },
  {
   "cell_type": "code",
   "execution_count": null,
   "id": "37d4b64f-35e9-404f-8c13-006efc8a745c",
   "metadata": {},
   "outputs": [],
   "source": [
    "loaded_model = joblib.load(filename)\n",
    "loaded_model"
   ]
  },
  {
   "cell_type": "code",
   "execution_count": null,
   "id": "4176eff5-34f3-42e4-8820-0b13dcf9a057",
   "metadata": {},
   "outputs": [],
   "source": [
    "y_predict = model.predict(X_test)"
   ]
  },
  {
   "cell_type": "code",
   "execution_count": null,
   "id": "21ac1dad-dee5-4713-95bb-9c97b213e0d1",
   "metadata": {},
   "outputs": [],
   "source": [
    "print(classification_report(y_test, y_predict)) "
   ]
  },
  {
   "cell_type": "code",
   "execution_count": null,
   "id": "380fdb08-fa3e-4a71-83db-f11cbf3cd4e0",
   "metadata": {},
   "outputs": [],
   "source": []
  }
 ],
 "metadata": {
  "kernelspec": {
   "display_name": "Python 3 (ipykernel)",
   "language": "python",
   "name": "python3"
  },
  "language_info": {
   "codemirror_mode": {
    "name": "ipython",
    "version": 3
   },
   "file_extension": ".py",
   "mimetype": "text/x-python",
   "name": "python",
   "nbconvert_exporter": "python",
   "pygments_lexer": "ipython3",
   "version": "3.9.0"
  }
 },
 "nbformat": 4,
 "nbformat_minor": 5
}
